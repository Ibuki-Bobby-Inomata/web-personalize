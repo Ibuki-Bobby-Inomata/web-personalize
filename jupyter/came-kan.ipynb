{
 "cells": [
  {
   "cell_type": "code",
   "execution_count": 1,
   "metadata": {},
   "outputs": [],
   "source": [
    "import numpy as np\n",
    "import pandas as pd\n",
    "import matplotlib.pyplot as plt\n",
    "import seaborn as sn\n",
    "import statistics\n",
    "import sklearn as sk\n",
    "import os\n",
    "import glob\n",
    "import math\n",
    "import collections\n",
    "import pylab\n",
    "import warnings\n",
    "import tensorflow as tf\n",
    "keras = tf.keras\n",
    "import keras.backend as K\n",
    "\n",
    "from sklearn.preprocessing import MinMaxScaler\n",
    "from sklearn.metrics import accuracy_score as accuracy\n",
    "from sklearn.model_selection import train_test_split\n",
    "from sklearn.metrics import confusion_matrix, classification_report, f1_score\n",
    "from keras.callbacks import Callback\n",
    "from pandas import DataFrame\n",
    "from pprint import pprint\n",
    "\n",
    "from keras.callbacks import EarlyStopping\n",
    "from keras.layers import Dropout, Embedding, LSTM, Bidirectional\n",
    "from tensorflow.keras.layers import Input, concatenate, Dense\n",
    "from tensorflow.keras.models import Model\n",
    "from tensorflow.python.keras.utils.vis_utils import plot_model\n",
    "from keras import models, layers\n",
    "from keras.optimizers import Adam, RMSprop\n",
    "from keras.layers import Activation, Dense\n",
    "from keras.models import Sequential\n",
    "from keras.preprocessing import sequence\n",
    "from keras import metrics\n",
    "from sklearn.metrics import f1_score\n",
    "\n",
    "import scipy.stats as stats\n",
    "\n",
    "\n",
    "# os.environ[\"CUDA_VISIBLE_DEVICES\"] = \"0\"\n",
    "warnings.simplefilter('ignore')"
   ]
  },
  {
   "cell_type": "code",
   "execution_count": 2,
   "metadata": {},
   "outputs": [],
   "source": [
    "def minmax(value, max_, min_):\n",
    "    return (value - min_)/(max_ - min_)"
   ]
  },
  {
   "cell_type": "code",
   "execution_count": 3,
   "metadata": {},
   "outputs": [],
   "source": [
    "def prepro_just(trte, window_size, mima):\n",
    "    def append_data(data_a, data_b):\n",
    "        for i in range(len(data_b)):\n",
    "            data_a.append(data_b[i])\n",
    "\n",
    "        return data_a\n",
    "    \n",
    "    file = glob.glob('../../data/20201117/'+trte+'/*.csv')\n",
    "    \n",
    "    data_acc_fin = []\n",
    "    data_do_fin = []\n",
    "    data_rot_fin = []\n",
    "    data_acc_z_fin = []\n",
    "    label_fin = []\n",
    "    \n",
    "    for file_num in range(len(file)):\n",
    "        df = pd.read_csv(file[file_num])\n",
    "        if '姿勢なし' in df.values:\n",
    "            continue\n",
    "            \n",
    "        df = df.replace({'直立':0, '歩行':1, '階段 - 下り':2, '階段 - 上り':2, '着席':0, '寝る':3, 'camera':4, 'kanban':5})\n",
    "        df = df[['date', 'label', 's_movement', 'do_alpha', 'do_beta', 'do_gamma', \n",
    "                 'acc_g_x', 'acc_g_y', 'acc_g_z', 'acc_x', 'acc_y', 'acc_z', 'rot_alpha', 'rot_beta', 'rot_gamma']]\n",
    "        \n",
    "        # acceleration composite \n",
    "        df['acc_composite'] = (df['acc_x']**2 + df['acc_y']**2 + df['acc_z']**2) ** 1/2\n",
    "        df['acc_composite_minmax'] = minmax(df['acc_composite'], 319.57, 0)\n",
    "        \n",
    "        # rotation pre\n",
    "        df['do_beta_pre'] = (df['do_beta']+180)/360\n",
    "        df['do_gamma_pre'] = (df['do_gamma']+90)/180\n",
    "        \n",
    "        df['rot_beta_pre'] = (df['rot_beta']+300)/600\n",
    "        df['rot_gamma_pre'] = (df['rot_gamma']+300)/600\n",
    "        \n",
    "        # standardization\n",
    "        df['acc_z_sta_min'] = df['acc_z'] + 18\n",
    "        df['acc_z_sta_max'] = df['acc_z'] + 26\n",
    "        \n",
    "        df['acc_z_sta_min_minmax'] = minmax(df['acc_z_sta_min'], 44, 0)\n",
    "        df['acc_z_sta_max_minmax'] = minmax(df['acc_z_sta_max'], 51, 7)\n",
    "        \n",
    "        if mima=='min':\n",
    "            data_acc = np.array(df[['acc_composite_minmax']])\n",
    "            data_do = np.array(df[['do_beta_pre', 'do_gamma_pre']])\n",
    "            data_rot = np.array(df[['rot_beta_pre', 'rot_gamma_pre']])\n",
    "            data_acc_z = np.array(df[['acc_z_sta_min_minmax']])\n",
    "        elif mima=='max':\n",
    "            data_acc = np.array(df[['acc_composite_minmax']])\n",
    "            data_do = np.array(df[['do_beta_pre', 'do_gamma_pre']])\n",
    "            data_rot = np.array(df[['rot_beta_pre', 'rot_gamma_pre']])\n",
    "            data_acc_z = np.array(df[['acc_z_sta_max_minmax']])\n",
    "        label = np.array(df[['label']])\n",
    "        \n",
    "        data_acc = [data_acc[i:i+window_size] for i in range(len(data_acc)-window_size)]\n",
    "        data_do = [data_do[i:i+window_size] for i in range(len(data_do)-window_size)]\n",
    "        data_rot = [data_rot[i:i+window_size] for i in range(len(data_rot)-window_size)]\n",
    "        data_acc_z = [data_acc_z[i:i+window_size] for i in range(len(data_acc_z)-window_size)]\n",
    "        \n",
    "        data_label = [label[i+window_size] for i in range(len(label)-window_size)]\n",
    "        \n",
    "        data_acc = append_data(data_acc_fin, data_acc)\n",
    "        data_do = append_data(data_do_fin, data_do)\n",
    "        data_rot = append_data(data_rot_fin, data_rot)\n",
    "        data_acc_z = append_data(data_acc_z_fin, data_acc_z)\n",
    "        data_label = append_data(label_fin, data_label)\n",
    "    \n",
    "    data_acc_fin = np.array(data_acc)\n",
    "    data_do_fin = np.array(data_do)\n",
    "    data_rot_fin = np.array(data_rot)\n",
    "    data_acc_z_fin = np.array(data_acc_z)\n",
    "    \n",
    "    label_fin = np.array(label_fin)\n",
    "    \n",
    "    return data_acc_fin, data_do_fin, data_rot_fin, data_acc_z_fin, label_fin"
   ]
  },
  {
   "cell_type": "code",
   "execution_count": 4,
   "metadata": {},
   "outputs": [],
   "source": [
    "window_size = 10\n",
    "\n",
    "# title = 'stand_min_comp_4er_building'\n",
    "# train_acc, train_do, train_rot, train_acc_z, train_label = prepro_just('train', window_size, 'min')\n",
    "# test_acc, test_do, test_rot, test_acc_z, test_label = prepro_just('test', window_size, 'min')\n",
    "\n",
    "title = 'stand_max_comp_4er'\n",
    "train_acc, train_do, train_rot, train_acc_z, train_label = prepro_just('train', window_size, 'max')\n",
    "test_acc, test_do, test_rot, test_acc_z, test_label = prepro_just('test', window_size, 'max')"
   ]
  },
  {
   "cell_type": "code",
   "execution_count": 5,
   "metadata": {},
   "outputs": [],
   "source": [
    "class_num = 6\n",
    "n_hidden = 100"
   ]
  },
  {
   "cell_type": "code",
   "execution_count": 6,
   "metadata": {},
   "outputs": [
    {
     "name": "stdout",
     "output_type": "stream",
     "text": [
      "Model: \"model_4\"\n",
      "__________________________________________________________________________________________________\n",
      "Layer (type)                    Output Shape         Param #     Connected to                     \n",
      "==================================================================================================\n",
      "input_1 (InputLayer)            [(None, 10, 1)]      0                                            \n",
      "__________________________________________________________________________________________________\n",
      "input_2 (InputLayer)            [(None, 10, 2)]      0                                            \n",
      "__________________________________________________________________________________________________\n",
      "input_3 (InputLayer)            [(None, 10, 2)]      0                                            \n",
      "__________________________________________________________________________________________________\n",
      "input_4 (InputLayer)            [(None, 10, 1)]      0                                            \n",
      "__________________________________________________________________________________________________\n",
      "conv1d (Conv1D)                 (None, 8, 64)        256         input_1[0][0]                    \n",
      "__________________________________________________________________________________________________\n",
      "conv1d_2 (Conv1D)               (None, 8, 64)        448         input_2[0][0]                    \n",
      "__________________________________________________________________________________________________\n",
      "conv1d_4 (Conv1D)               (None, 8, 64)        448         input_3[0][0]                    \n",
      "__________________________________________________________________________________________________\n",
      "conv1d_6 (Conv1D)               (None, 8, 64)        256         input_4[0][0]                    \n",
      "__________________________________________________________________________________________________\n",
      "conv1d_1 (Conv1D)               (None, 4, 64)        12352       conv1d[0][0]                     \n",
      "__________________________________________________________________________________________________\n",
      "conv1d_3 (Conv1D)               (None, 4, 64)        12352       conv1d_2[0][0]                   \n",
      "__________________________________________________________________________________________________\n",
      "conv1d_5 (Conv1D)               (None, 4, 64)        12352       conv1d_4[0][0]                   \n",
      "__________________________________________________________________________________________________\n",
      "conv1d_7 (Conv1D)               (None, 4, 64)        12352       conv1d_6[0][0]                   \n",
      "__________________________________________________________________________________________________\n",
      "concatenate (Concatenate)       (None, 4, 256)       0           conv1d_1[0][0]                   \n",
      "                                                                 conv1d_3[0][0]                   \n",
      "                                                                 conv1d_5[0][0]                   \n",
      "                                                                 conv1d_7[0][0]                   \n",
      "__________________________________________________________________________________________________\n",
      "lstm (LSTM)                     (None, 4, 100)       142800      concatenate[0][0]                \n",
      "__________________________________________________________________________________________________\n",
      "lstm_1 (LSTM)                   (None, 100)          80400       lstm[0][0]                       \n",
      "__________________________________________________________________________________________________\n",
      "dense (Dense)                   (None, 10)           1010        lstm_1[0][0]                     \n",
      "__________________________________________________________________________________________________\n",
      "dense_1 (Dense)                 (None, 6)            66          dense[0][0]                      \n",
      "==================================================================================================\n",
      "Total params: 275,092\n",
      "Trainable params: 275,092\n",
      "Non-trainable params: 0\n",
      "__________________________________________________________________________________________________\n"
     ]
    }
   ],
   "source": [
    "# 入力を定義\n",
    "input_acc = Input(shape=(window_size,1))\n",
    "input_do = Input(shape=(window_size,2))\n",
    "input_rot = Input(shape=(window_size,2))\n",
    "input_acc_z = Input(shape=(window_size,1))\n",
    "\n",
    "\n",
    "# 入力1から結合前まで(Conv1D)\n",
    "acc = tf.keras.layers.Conv1D(filters=64, kernel_size=3, dilation_rate=1, activation='relu')(input_acc)\n",
    "acc = tf.keras.layers.Conv1D(filters=64, kernel_size=3, dilation_rate=2, activation='relu')(acc)\n",
    "\n",
    "acc = Model(inputs=input_acc, outputs=acc)\n",
    "\n",
    "# 入力2から結合前まで(Conv1D)\n",
    "do = tf.keras.layers.Conv1D(filters=64, kernel_size=3, dilation_rate=1, activation='relu')(input_do)\n",
    "do = tf.keras.layers.Conv1D(filters=64, kernel_size=3, dilation_rate=2, activation='relu')(do)\n",
    "\n",
    "do = Model(inputs=input_do, outputs=do)\n",
    "\n",
    "# 入力1から結合前まで(Conv1D)\n",
    "rot = tf.keras.layers.Conv1D(filters=64, kernel_size=3, dilation_rate=1, activation='relu')(input_rot)\n",
    "rot = tf.keras.layers.Conv1D(filters=64, kernel_size=3, dilation_rate=2, activation='relu')(rot)\n",
    "\n",
    "rot = Model(inputs=input_rot, outputs=rot)\n",
    "\n",
    "# 入力2から結合前まで(Conv1D)\n",
    "acc_z = tf.keras.layers.Conv1D(filters=64, kernel_size=3, dilation_rate=1, activation='relu')(input_acc_z)\n",
    "acc_z = tf.keras.layers.Conv1D(filters=64, kernel_size=3, dilation_rate=2, activation='relu')(acc_z)\n",
    "\n",
    "acc_z = Model(inputs=input_acc_z, outputs=acc_z)\n",
    "\n",
    "# 結合\n",
    "combined = concatenate([acc.output, do.output, rot.output, acc_z.output])\n",
    "\n",
    "# # 密結合\n",
    "z = tf.keras.layers.LSTM(units=n_hidden, return_sequences=True)(combined)\n",
    "z = tf.keras.layers.LSTM(units=n_hidden, return_sequences=False)(z)\n",
    "\n",
    "z = tf.keras.layers.Dense(units=10, activation='relu')(z)\n",
    "z = tf.keras.layers.Dense(class_num, activation='softmax')(z)\n",
    "\n",
    "# モデル定義とコンパイル\n",
    "rnn = tf.keras.Model(inputs=[acc.input, do.input, rot.input, acc_z.input], outputs=z)\n",
    "rnn.compile(loss='sparse_categorical_crossentropy', optimizer='adam', metrics=['acc'])\n",
    "rnn.summary()"
   ]
  },
  {
   "cell_type": "code",
   "execution_count": 7,
   "metadata": {},
   "outputs": [],
   "source": [
    "rnn.compile(loss='sparse_categorical_crossentropy', \n",
    "                      optimizer='adam', \n",
    "                      metrics=['accuracy'])"
   ]
  },
  {
   "cell_type": "code",
   "execution_count": 8,
   "metadata": {},
   "outputs": [
    {
     "name": "stdout",
     "output_type": "stream",
     "text": [
      "Epoch 1/10000\n",
      "827/827 [==============================] - 9s 7ms/step - loss: 1.0644 - accuracy: 0.5425 - val_loss: 0.6558 - val_accuracy: 0.6425\n",
      "Epoch 2/10000\n",
      "827/827 [==============================] - 5s 6ms/step - loss: 0.6183 - accuracy: 0.7077 - val_loss: 0.6124 - val_accuracy: 0.6844\n",
      "Epoch 3/10000\n",
      "827/827 [==============================] - 5s 6ms/step - loss: 0.5580 - accuracy: 0.7394 - val_loss: 0.5052 - val_accuracy: 0.7716\n",
      "Epoch 4/10000\n",
      "827/827 [==============================] - 6s 7ms/step - loss: 0.4841 - accuracy: 0.7898 - val_loss: 0.4989 - val_accuracy: 0.7866\n",
      "Epoch 5/10000\n",
      "827/827 [==============================] - 6s 7ms/step - loss: 0.4598 - accuracy: 0.8031 - val_loss: 0.4862 - val_accuracy: 0.8082\n",
      "Epoch 6/10000\n",
      "827/827 [==============================] - 6s 7ms/step - loss: 0.4351 - accuracy: 0.8167 - val_loss: 0.4322 - val_accuracy: 0.8216\n",
      "Epoch 7/10000\n",
      "827/827 [==============================] - 6s 7ms/step - loss: 0.4147 - accuracy: 0.8251 - val_loss: 0.4139 - val_accuracy: 0.8284\n",
      "Epoch 8/10000\n",
      "827/827 [==============================] - 6s 7ms/step - loss: 0.3948 - accuracy: 0.8329 - val_loss: 0.4140 - val_accuracy: 0.8315\n",
      "Epoch 9/10000\n",
      "827/827 [==============================] - 6s 8ms/step - loss: 0.3806 - accuracy: 0.8391 - val_loss: 0.3887 - val_accuracy: 0.8425\n",
      "Epoch 10/10000\n",
      "827/827 [==============================] - 7s 8ms/step - loss: 0.3679 - accuracy: 0.8457 - val_loss: 0.4473 - val_accuracy: 0.8099\n",
      "Epoch 11/10000\n",
      "827/827 [==============================] - 7s 9ms/step - loss: 0.3569 - accuracy: 0.8523 - val_loss: 0.4144 - val_accuracy: 0.8315\n",
      "Epoch 12/10000\n",
      "827/827 [==============================] - 7s 9ms/step - loss: 0.3418 - accuracy: 0.8612 - val_loss: 0.3936 - val_accuracy: 0.8406\n"
     ]
    }
   ],
   "source": [
    "callback = tf.keras.callbacks.EarlyStopping(monitor='val_loss', patience=3)\n",
    "rnn.fit([train_acc, train_do, train_rot, train_acc_z], train_label,\n",
    "          batch_size=64,\n",
    "          epochs=10000,\n",
    "          validation_split=0.1,\n",
    "          callbacks=[callback]\n",
    "       )\n",
    "\n",
    "predict_classes = rnn.predict([test_acc, test_do, test_rot, test_acc_z])\n",
    "true_classes = test_label\n",
    "\n",
    "pre_cla = []\n",
    "\n",
    "for i in range(len(predict_classes)):\n",
    "    max_ = np.amax(predict_classes[i])\n",
    "    for j in range(len(predict_classes[i])):\n",
    "        if max_==predict_classes[i][j]:\n",
    "            pre_cla.append(j)\n",
    "\n",
    "predict_classes = np.array(pre_cla)"
   ]
  },
  {
   "cell_type": "code",
   "execution_count": 9,
   "metadata": {},
   "outputs": [
    {
     "data": {
      "image/png": "[encoded data removed]",
      "text/plain": [
       "<Figure size 1080x1080 with 2 Axes>"
      ]
     },
     "metadata": {
      "needs_background": "light"
     },
     "output_type": "display_data"
    }
   ],
   "source": [
    "target_names = ['stay', 'walk', 'stairs', 'lie', 'camera','kanban']\n",
    "\n",
    "def print_cmx(y_true, y_pred, labels, TagID):\n",
    "    cmx_data = confusion_matrix(y_true, y_pred)\n",
    "    \n",
    "    cmx_data = cmx_data.astype('float') / cmx_data.sum(axis=1)[:, np.newaxis]\n",
    "    \n",
    "    cmx_data = cmx_data.round(2)\n",
    "    \n",
    "    df_cmx = pd.DataFrame(cmx_data, index=labels, columns=labels)\n",
    " \n",
    "    plt.figure(figsize = (15,15))\n",
    "    sn.heatmap(df_cmx, annot=True, fmt='g', square = True, cmap='Reds', vmin=0.0, vmax=1.0)\n",
    "    sn.set_context('poster')\n",
    "    \n",
    "    plt.ylim(6, 0)\n",
    "    plt.xlabel(\"Predict-labels\")\n",
    "    plt.ylabel(\"True-labels\")\n",
    "    \n",
    "    plt.title(TagID)\n",
    "    \n",
    "#     plt.savefig('../../../../data_image/confusion_matrix/200708/'+title+'.png')    \n",
    "    \n",
    "    plt.show()    \n",
    "#     dd\n",
    "    return \n",
    "    \n",
    "print_cmx(true_classes, predict_classes, target_names, title)"
   ]
  },
  {
   "cell_type": "code",
   "execution_count": 10,
   "metadata": {},
   "outputs": [
    {
     "name": "stdout",
     "output_type": "stream",
     "text": [
      "              precision    recall  f1-score   support\n",
      "\n",
      "           0       0.93      0.96      0.95      1400\n",
      "           1       0.78      0.82      0.80      2066\n",
      "           2       0.79      0.74      0.76      1724\n",
      "           3       0.97      0.90      0.94       852\n",
      "           4       0.92      1.00      0.96        58\n",
      "           5       0.93      0.88      0.90        75\n",
      "\n",
      "    accuracy                           0.84      6175\n",
      "   macro avg       0.89      0.88      0.88      6175\n",
      "weighted avg       0.85      0.84      0.84      6175\n",
      "\n"
     ]
    }
   ],
   "source": [
    "from sklearn.metrics import classification_report\n",
    "import pandas as pd\n",
    "import pprint\n",
    "\n",
    "print(classification_report(true_classes, predict_classes))"
   ]
  },
  {
   "cell_type": "code",
   "execution_count": 13,
   "metadata": {},
   "outputs": [
    {
     "data": {
      "text/plain": [
       "<function matplotlib.pyplot.show(*args, **kw)>"
      ]
     },
     "execution_count": 13,
     "metadata": {},
     "output_type": "execute_result"
    },
    {
     "data": {
      "image/png": "[encoded data removed]",
      "text/plain": [
       "<Figure size 1440x1440 with 2 Axes>"
      ]
     },
     "metadata": {
      "needs_background": "light"
     },
     "output_type": "display_data"
    }
   ],
   "source": [
    "files = glob.glob('../../data/building_home/0all/test/*.csv')\n",
    "\n",
    "df_change = pd.read_csv(files[0])\n",
    "pre = pd.DataFrame({'label':predict_classes})\n",
    "df_change = df_change.replace({'直立':0, '歩行':1, '階段 - 下り':2, '階段 - 上り':2, '着席':0, '寝る':3})\n",
    "\n",
    "\n",
    "sliced_label_0 = np.identity(4)[df_change.label]\n",
    "sliced_label_1 = np.identity(4)[pre.label]\n",
    "\n",
    "bar_0 = np.argmax(sliced_label_0,axis=1)\n",
    "bar_1 = np.argmax(sliced_label_1,axis=1)\n",
    "\n",
    "plt.figure(figsize=(20, 20))\n",
    "plt.subplot(2,1,1)\n",
    "for t in range(4):\n",
    "    plt.bar(range(len(bar_0)),df_change.label==t,width=1)\n",
    "    \n",
    "plt.subplot(2,1,2)\n",
    "for t in range(4):\n",
    "    plt.bar(range(len(bar_1)),pre.label==t,width=1)\n",
    "    \n",
    "# plt.savefig('../../../../data_image/confusion_matrix/200708/'+title+'_time.png') \n",
    "plt.show"
   ]
  },
  {
   "cell_type": "code",
   "execution_count": 14,
   "metadata": {},
   "outputs": [
    {
     "data": {
      "text/plain": [
       "<function matplotlib.pyplot.show(*args, **kw)>"
      ]
     },
     "execution_count": 14,
     "metadata": {},
     "output_type": "execute_result"
    },
    {
     "data": {
      "image/png": "[encoded data removed]",
      "text/plain": [
       "<Figure size 1440x1440 with 2 Axes>"
      ]
     },
     "metadata": {
      "needs_background": "light"
     },
     "output_type": "display_data"
    }
   ],
   "source": [
    "pc = predict_classes\n",
    "label_size = 15\n",
    "\n",
    "labe_fin = []\n",
    "\n",
    "for l in range(len(pc)-label_size):\n",
    "    num_true = l + label_size\n",
    "    labe_fin.append(stats.mode(pc[l:num_true])[0][0])\n",
    "\n",
    "for l_ in range(label_size):\n",
    "    labe_fin.append(labe_fin[-1:][0])\n",
    "\n",
    "labe_fin = np.array(labe_fin)\n",
    "\n",
    "files = glob.glob('../../data/building_home/0all/test/*.csv')\n",
    "\n",
    "df_change = pd.read_csv(files[0])\n",
    "pre = pd.DataFrame({'label':labe_fin})\n",
    "df_change = df_change.replace({'直立':0, '歩行':1, '階段 - 下り':2, '階段 - 上り':2, '着席':0, '寝る':3})\n",
    "\n",
    "\n",
    "sliced_label_0 = np.identity(4)[df_change.label]\n",
    "sliced_label_1 = np.identity(4)[pre.label]\n",
    "\n",
    "bar_0 = np.argmax(sliced_label_0,axis=1)\n",
    "bar_1 = np.argmax(sliced_label_1,axis=1)\n",
    "\n",
    "plt.figure(figsize=(20, 20))\n",
    "plt.subplot(2,1,1)\n",
    "for t in range(4):\n",
    "    plt.bar(range(len(bar_0)),df_change.label==t,width=1)\n",
    "    \n",
    "plt.subplot(2,1,2)\n",
    "for t in range(4):\n",
    "    plt.bar(range(len(bar_1)),pre.label==t,width=1)\n",
    "    \n",
    "title = 'divide_comp_4er_nomal_inomata_clean'\n",
    "    \n",
    "# plt.savefig('../../../../data_image/confusion_matrix/200708/'+title+'_time.png') \n",
    "plt.show"
   ]
  },
  {
   "cell_type": "code",
   "execution_count": 16,
   "metadata": {},
   "outputs": [],
   "source": [
    "import tensorflowjs as tfjs"
   ]
  },
  {
   "cell_type": "code",
   "execution_count": 13,
   "metadata": {},
   "outputs": [],
   "source": [
    "rnn.save('model_camera.h5')"
   ]
  },
  {
   "cell_type": "code",
   "execution_count": 17,
   "metadata": {},
   "outputs": [
    {
     "data": {
      "text/plain": [
       "[]"
      ]
     },
     "execution_count": 17,
     "metadata": {},
     "output_type": "execute_result"
    }
   ],
   "source": [
    "!!tensorflowjs_converter --input_format keras model_camera.h5 model_camera"
   ]
  },
  {
   "cell_type": "code",
   "execution_count": 16,
   "metadata": {},
   "outputs": [],
   "source": []
  },
  {
   "cell_type": "code",
   "execution_count": null,
   "metadata": {},
   "outputs": [],
   "source": []
  }
 ],
 "metadata": {
  "kernelspec": {
   "display_name": "Python 3",
   "language": "python",
   "name": "python3"
  },
  "language_info": {
   "codemirror_mode": {
    "name": "ipython",
    "version": 3
   },
   "file_extension": ".py",
   "mimetype": "text/x-python",
   "name": "python",
   "nbconvert_exporter": "python",
   "pygments_lexer": "ipython3",
   "version": "3.7.3"
  }
 },
 "nbformat": 4,
 "nbformat_minor": 4
}
