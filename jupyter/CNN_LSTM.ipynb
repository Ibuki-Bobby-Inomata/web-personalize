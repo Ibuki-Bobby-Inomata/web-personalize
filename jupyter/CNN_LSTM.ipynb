{
 "cells": [
  {
   "cell_type": "code",
   "execution_count": 1,
   "metadata": {},
   "outputs": [],
   "source": [
    "import numpy as np\n",
    "import pandas as pd\n",
    "import matplotlib.pyplot as plt\n",
    "import seaborn as sn\n",
    "import statistics\n",
    "import sklearn as sk\n",
    "import os\n",
    "import glob\n",
    "import math\n",
    "import collections\n",
    "import pylab\n",
    "import warnings\n",
    "import tensorflow as tf\n",
    "keras = tf.keras\n",
    "import keras.backend as K\n",
    "import random\n",
    "\n",
    "from sklearn.preprocessing import MinMaxScaler\n",
    "from sklearn.metrics import accuracy_score as accuracy\n",
    "from sklearn.model_selection import train_test_split\n",
    "from sklearn.metrics import confusion_matrix, classification_report, f1_score\n",
    "from keras.callbacks import Callback\n",
    "from pandas import DataFrame\n",
    "from pprint import pprint\n",
    "\n",
    "from keras.callbacks import EarlyStopping\n",
    "from keras.layers import Dropout, Embedding, LSTM, Bidirectional\n",
    "from tensorflow.keras.layers import Input, concatenate, Dense\n",
    "from tensorflow.keras.models import Model\n",
    "from tensorflow.python.keras.utils.vis_utils import plot_model\n",
    "from keras import models, layers\n",
    "from keras.optimizers import Adam, RMSprop\n",
    "from keras.layers import Activation, Dense\n",
    "from keras.models import Sequential\n",
    "from keras.preprocessing import sequence\n",
    "from keras import metrics\n",
    "from sklearn.metrics import f1_score\n",
    "\n",
    "import scipy.stats as stats\n",
    "\n",
    "# os.environ[\"CUDA_VISIBLE_DEVICES\"] = \"0\"\n",
    "warnings.simplefilter('ignore')"
   ]
  },
  {
   "cell_type": "code",
   "execution_count": 2,
   "metadata": {},
   "outputs": [],
   "source": [
    "def divide_genre(path):\n",
    "    file = glob.glob(path)\n",
    "    file_up_down          = [file_name for file_name in file if \"up-down\" in file_name]\n",
    "    file_up_down_big      = [file_name for file_name in file_up_down if \"big\" in file_name]\n",
    "    file_up_down_small    = [file_name for file_name in file_up_down if \"small\" in file_name]\n",
    "    \n",
    "    file_left_right       = [file_name for file_name in file if \"left-right\" in file_name]\n",
    "    file_left_right_big   = [file_name for file_name in file_left_right if \"big\" in file_name]\n",
    "    file_left_right_small = [file_name for file_name in file_left_right if \"small\" in file_name]\n",
    "    \n",
    "    return list([file_up_down_big, file_up_down_small, file_left_right_big, file_left_right_small])"
   ]
  },
  {
   "cell_type": "code",
   "execution_count": 3,
   "metadata": {},
   "outputs": [],
   "source": [
    "def separate_train_test(files):\n",
    "    \n",
    "    def random_choise(files):\n",
    "        random.seed(0)\n",
    "        test_file = random.choice(files) # 入力されたファイル群から１つをTestファイルとして抽出\n",
    "        files.remove(test_file) # 抽出したファイルを元のファイル群から削除\n",
    "        train_file = files # 削除後のファイル群をTrainファイルとする\n",
    "        return train_file, test_file\n",
    "\n",
    "    train_list = []\n",
    "    test_list = []\n",
    "    for label_num in range(len(files)):\n",
    "        train, test = random_choise(files[label_num])\n",
    "        train_list.extend(train)\n",
    "        test_list.append(test)\n",
    "    return train_list, test_list"
   ]
  },
  {
   "cell_type": "code",
   "execution_count": 4,
   "metadata": {},
   "outputs": [],
   "source": [
    "list_osawa_file  = divide_genre(\"data/*osawa*\")\n",
    "list_sasaki_file = divide_genre(\"data/*sasaki*\")"
   ]
  },
  {
   "cell_type": "code",
   "execution_count": 5,
   "metadata": {},
   "outputs": [],
   "source": [
    "train_osawa, test_osawa = separate_train_test(list_osawa_file)\n",
    "train_sasaki, test_sasaki = separate_train_test(list_sasaki_file)"
   ]
  },
  {
   "cell_type": "code",
   "execution_count": 6,
   "metadata": {},
   "outputs": [],
   "source": [
    "train = train_osawa + train_sasaki"
   ]
  },
  {
   "cell_type": "code",
   "execution_count": 7,
   "metadata": {},
   "outputs": [],
   "source": [
    "test = test_osawa + test_sasaki"
   ]
  },
  {
   "cell_type": "code",
   "execution_count": 10,
   "metadata": {},
   "outputs": [],
   "source": [
    "def minmax(value, max_, min_):\n",
    "    return (value - min_)/(max_ - min_)"
   ]
  },
  {
   "cell_type": "code",
   "execution_count": 11,
   "metadata": {},
   "outputs": [],
   "source": [
    "def prepro_just(file, window_size):\n",
    "    def append_data(data_a, data_b):\n",
    "        for i in range(len(data_b)):\n",
    "            data_a.append(data_b[i])\n",
    "\n",
    "        return data_a\n",
    "    \n",
    "    data_acc_fin = []\n",
    "    data_do_fin = []\n",
    "    data_rot_fin = []\n",
    "    data_acc_z_fin = []\n",
    "    label_fin = []\n",
    "    \n",
    "    for file_num in range(len(file)):\n",
    "        df = pd.read_csv(file[file_num])\n",
    "        if '姿勢なし' in df.values:\n",
    "            continue\n",
    "        \n",
    "        # 0:left-right+small\n",
    "        # 1:left-right+big\n",
    "        # 2:up-down+small\n",
    "        # 3:up-down+big\n",
    "        df = df.replace({'直立':0, '歩行':1, '着席':3, '寝る':2})\n",
    "        df = df[['date', 'label', 's_movement', 'do_alpha', 'do_beta', 'do_gamma', \n",
    "                 'acc_g_x', 'acc_g_y', 'acc_g_z', 'acc_x', 'acc_y', 'acc_z', 'rot_alpha', 'rot_beta', 'rot_gamma']]\n",
    "        \n",
    "        # acceleration composite\n",
    "        df['acc_composite'] = (df['acc_x']**2 + df['acc_y']**2 + df['acc_z']**2) ** 1/2\n",
    "        df['acc_composite_minmax'] = minmax(df['acc_composite'], 1262.865, 0)\n",
    "        \n",
    "        # rotation pre\n",
    "        df['do_beta_pre'] = (df['do_beta']+180)/360\n",
    "        df['do_gamma_pre'] = (df['do_gamma']+90)/180\n",
    "        \n",
    "        df['rot_beta_pre'] = (df['rot_beta']+300)/600\n",
    "        df['rot_gamma_pre'] = (df['rot_gamma']+300)/600\n",
    "        \n",
    "        # standardization\n",
    "        df['acc_z_sta_min'] = df['acc_z'] + 18\n",
    "#         df['acc_z_sta_max'] = df['acc_z'] + 26\n",
    "        \n",
    "        df['acc_z_sta_min_minmax'] = minmax(df['acc_z_sta_min'], 54.800000, 2.2)\n",
    "#         df['acc_z_sta_max_minmax'] = minmax(df['acc_z_sta_max'], 51, 7)\n",
    "        \n",
    "#         if mima=='min':\n",
    "        data_acc = np.array(df[['acc_composite_minmax']])\n",
    "        data_do = np.array(df[['do_beta_pre', 'do_gamma_pre']])\n",
    "        data_rot = np.array(df[['rot_beta_pre', 'rot_gamma_pre']])\n",
    "        data_acc_z = np.array(df[['acc_z_sta_min_minmax']])\n",
    "#         elif mima=='max':\n",
    "#             data_acc = np.array(df[['acc_composite_minmax']])\n",
    "#             data_do = np.array(df[['do_beta_pre', 'do_gamma_pre']])\n",
    "#             data_rot = np.array(df[['rot_beta_pre', 'rot_gamma_pre']])\n",
    "#             data_acc_z = np.array(df[['acc_z_sta_max_minmax']])\n",
    "        label = np.array(df[['label']])\n",
    "        \n",
    "        data_acc = [data_acc[i:i+window_size] for i in range(len(data_acc)-window_size)]\n",
    "        data_do = [data_do[i:i+window_size] for i in range(len(data_do)-window_size)]\n",
    "        data_rot = [data_rot[i:i+window_size] for i in range(len(data_rot)-window_size)]\n",
    "        data_acc_z = [data_acc_z[i:i+window_size] for i in range(len(data_acc_z)-window_size)]\n",
    "        \n",
    "        data_label = [label[i+window_size] for i in range(len(label)-window_size)]\n",
    "        \n",
    "        data_acc = append_data(data_acc_fin, data_acc)\n",
    "        data_do = append_data(data_do_fin, data_do)\n",
    "        data_rot = append_data(data_rot_fin, data_rot)\n",
    "        data_acc_z = append_data(data_acc_z_fin, data_acc_z)\n",
    "        data_label = append_data(label_fin, data_label)\n",
    "    \n",
    "    data_acc_fin = np.array(data_acc)\n",
    "    data_do_fin = np.array(data_do)\n",
    "    data_rot_fin = np.array(data_rot)\n",
    "    data_acc_z_fin = np.array(data_acc_z)\n",
    "    \n",
    "    label_fin = np.array(data_label)\n",
    "#     , dtype='int64')\n",
    "    \n",
    "    return data_acc_fin, data_do_fin, data_rot_fin, data_acc_z_fin, label_fin"
   ]
  },
  {
   "cell_type": "code",
   "execution_count": 12,
   "metadata": {},
   "outputs": [],
   "source": [
    "window_size = 10\n",
    "\n",
    "train_acc, train_do, train_rot, train_acc_z, train_label = prepro_just(train, window_size)\n",
    "test_acc, test_do, test_rot, test_acc_z, test_label = prepro_just(test, window_size)"
   ]
  },
  {
   "cell_type": "code",
   "execution_count": 14,
   "metadata": {},
   "outputs": [],
   "source": [
    "class_num = 4\n",
    "n_hidden = 100"
   ]
  },
  {
   "cell_type": "code",
   "execution_count": 16,
   "metadata": {},
   "outputs": [],
   "source": [
    "# 入力を定義\n",
    "input_acc = Input(shape=(window_size,1))\n",
    "input_do = Input(shape=(window_size,2))\n",
    "input_rot = Input(shape=(window_size,2))\n",
    "input_acc_z = Input(shape=(window_size,1))\n",
    "\n",
    "# 入力1から結合前まで(Conv1D)\n",
    "acc = tf.keras.layers.Conv1D(filters=64, kernel_size=3, dilation_rate=1, activation='relu')(input_acc)\n",
    "acc = tf.keras.layers.Conv1D(filters=64, kernel_size=3, dilation_rate=2, activation='relu')(acc)\n",
    "\n",
    "acc = Model(inputs=input_acc, outputs=acc)\n",
    "\n",
    "# 入力2から結合前まで(Conv1D)\n",
    "do = tf.keras.layers.Conv1D(filters=64, kernel_size=3, dilation_rate=1, activation='relu')(input_do)\n",
    "do = tf.keras.layers.Conv1D(filters=64, kernel_size=3, dilation_rate=2, activation='relu')(do)\n",
    "\n",
    "do = Model(inputs=input_do, outputs=do)\n",
    "\n",
    "# 入力1から結合前まで(Conv1D)\n",
    "rot = tf.keras.layers.Conv1D(filters=64, kernel_size=3, dilation_rate=1, activation='relu')(input_rot)\n",
    "rot = tf.keras.layers.Conv1D(filters=64, kernel_size=3, dilation_rate=2, activation='relu')(rot)\n",
    "\n",
    "rot = Model(inputs=input_rot, outputs=rot)\n",
    "\n",
    "# 入力2から結合前まで(Conv1D)\n",
    "acc_z = tf.keras.layers.Conv1D(filters=64, kernel_size=3, dilation_rate=1, activation='relu')(input_acc_z)\n",
    "acc_z = tf.keras.layers.Conv1D(filters=64, kernel_size=3, dilation_rate=2, activation='relu')(acc_z)\n",
    "\n",
    "acc_z = Model(inputs=input_acc_z, outputs=acc_z)\n",
    "\n",
    "# 結合\n",
    "combined = concatenate([acc.output, do.output, rot.output, acc_z.output])\n",
    "\n",
    "# 密結合\n",
    "z = tf.keras.layers.LSTM(units=n_hidden, return_sequences=True)(combined)\n",
    "z = tf.keras.layers.LSTM(units=n_hidden, return_sequences=False)(z)\n",
    "\n",
    "z = tf.keras.layers.Dense(units=10, activation='relu')(z)\n",
    "z = tf.keras.layers.Dense(class_num, activation='softmax')(z)\n",
    "\n",
    "# モデル定義とコンパイル\n",
    "rnn = tf.keras.Model(inputs=[acc.input, do.input, rot.input, acc_z.input], outputs=z)\n",
    "rnn.compile(loss='sparse_categorical_crossentropy', optimizer='adam', metrics=['acc'])\n",
    "# rnn.summary()"
   ]
  },
  {
   "cell_type": "code",
   "execution_count": 17,
   "metadata": {},
   "outputs": [],
   "source": [
    "rnn.compile(loss='sparse_categorical_crossentropy', \n",
    "                      optimizer='adam', \n",
    "                      metrics=['accuracy'])"
   ]
  },
  {
   "cell_type": "code",
   "execution_count": 18,
   "metadata": {},
   "outputs": [
    {
     "name": "stdout",
     "output_type": "stream",
     "text": [
      "Epoch 1/10000\n",
      "320/320 [==============================] - 6s 10ms/step - loss: 0.7301 - accuracy: 0.6606 - val_loss: 1.0397 - val_accuracy: 0.6385\n",
      "Epoch 2/10000\n",
      "320/320 [==============================] - 2s 7ms/step - loss: 0.0430 - accuracy: 0.9873 - val_loss: 0.4287 - val_accuracy: 0.8496\n",
      "Epoch 3/10000\n",
      "320/320 [==============================] - 2s 7ms/step - loss: 0.0271 - accuracy: 0.9916 - val_loss: 0.1650 - val_accuracy: 0.9490\n",
      "Epoch 4/10000\n",
      "320/320 [==============================] - 2s 8ms/step - loss: 0.0202 - accuracy: 0.9939 - val_loss: 0.0565 - val_accuracy: 0.9886\n",
      "Epoch 5/10000\n",
      "320/320 [==============================] - 2s 7ms/step - loss: 0.0142 - accuracy: 0.9953 - val_loss: 0.1094 - val_accuracy: 0.9749\n",
      "Epoch 6/10000\n",
      "320/320 [==============================] - 2s 7ms/step - loss: 0.0133 - accuracy: 0.9956 - val_loss: 0.1450 - val_accuracy: 0.9560\n",
      "Epoch 7/10000\n",
      "320/320 [==============================] - 3s 8ms/step - loss: 0.0127 - accuracy: 0.9960 - val_loss: 1.4414 - val_accuracy: 0.5624\n"
     ]
    }
   ],
   "source": [
    "callback = tf.keras.callbacks.EarlyStopping(monitor='val_loss', patience=3)\n",
    "rnn.fit([train_acc, train_do, train_rot, train_acc_z], train_label,\n",
    "        batch_size=64,\n",
    "        epochs=10000,\n",
    "        validation_split=0.1,\n",
    "        callbacks=[callback]\n",
    "       )\n",
    "\n",
    "predict_classes = rnn.predict([test_acc, test_do, test_rot, test_acc_z])\n",
    "true_classes = test_label\n",
    "\n",
    "pre_cla = []\n",
    "\n",
    "for i in range(len(predict_classes)):\n",
    "    max_ = np.amax(predict_classes[i])\n",
    "    for j in range(len(predict_classes[i])):\n",
    "        if max_==predict_classes[i][j]:\n",
    "            pre_cla.append(j)\n",
    "\n",
    "predict_classes = np.array(pre_cla)"
   ]
  },
  {
   "cell_type": "code",
   "execution_count": 20,
   "metadata": {},
   "outputs": [
    {
     "data": {
      "image/png": "[encoded data removed]",
      "text/plain": [
       "<Figure size 1080x1080 with 2 Axes>"
      ]
     },
     "metadata": {
      "needs_background": "light"
     },
     "output_type": "display_data"
    }
   ],
   "source": [
    "target_names = ['left_right_small', 'left_right_big', 'up_down_small', 'up_down_big']\n",
    "title = 'test'\n",
    "\n",
    "def print_cmx(y_true, y_pred, labels, title):\n",
    "    cmx_data = confusion_matrix(y_true, y_pred)\n",
    "    \n",
    "    cmx_data = cmx_data.astype('float') / cmx_data.sum(axis=1)[:, np.newaxis]\n",
    "    \n",
    "    cmx_data = cmx_data.round(2)\n",
    "    \n",
    "    df_cmx = pd.DataFrame(cmx_data, index=labels, columns=labels)\n",
    " \n",
    "    plt.figure(figsize = (15,15))\n",
    "    sn.heatmap(df_cmx, annot=True, fmt='g', square = True, cmap='Reds', vmin=0.0, vmax=1.0)\n",
    "    sn.set_context('poster')\n",
    "    \n",
    "    plt.ylim(4, 0)\n",
    "    plt.xlabel(\"Predict-labels\")\n",
    "    plt.ylabel(\"True-labels\")\n",
    "    \n",
    "    plt.title(title)\n",
    "#     plt.savefig('../../../../data_image/confusion_matrix/200708/'+title+'.png')    \n",
    "    plt.show()    \n",
    "    return \n",
    "    \n",
    "print_cmx(true_classes, predict_classes, target_names, title)"
   ]
  },
  {
   "cell_type": "code",
   "execution_count": 22,
   "metadata": {},
   "outputs": [],
   "source": [
    "import tensorflowjs as tfjs"
   ]
  },
  {
   "cell_type": "code",
   "execution_count": 23,
   "metadata": {},
   "outputs": [],
   "source": [
    "tfjs.converters.save_keras_model(rnn, '../model')"
   ]
  },
  {
   "cell_type": "code",
   "execution_count": null,
   "metadata": {},
   "outputs": [],
   "source": []
  },
  {
   "cell_type": "code",
   "execution_count": null,
   "metadata": {},
   "outputs": [],
   "source": []
  }
 ],
 "metadata": {
  "kernelspec": {
   "display_name": "Python 3",
   "language": "python",
   "name": "python3"
  },
  "language_info": {
   "codemirror_mode": {
    "name": "ipython",
    "version": 3
   },
   "file_extension": ".py",
   "mimetype": "text/x-python",
   "name": "python",
   "nbconvert_exporter": "python",
   "pygments_lexer": "ipython3",
   "version": "3.7.3"
  }
 },
 "nbformat": 4,
 "nbformat_minor": 4
}
