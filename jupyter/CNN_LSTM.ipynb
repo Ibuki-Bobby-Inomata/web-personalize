{
 "cells": [
  {
   "cell_type": "code",
   "execution_count": 1,
   "metadata": {},
   "outputs": [],
   "source": [
    "import numpy as np\n",
    "import pandas as pd\n",
    "import matplotlib.pyplot as plt\n",
    "import seaborn as sn\n",
    "import statistics\n",
    "import sklearn as sk\n",
    "import os\n",
    "import glob\n",
    "import math\n",
    "import collections\n",
    "import pylab\n",
    "import warnings\n",
    "import tensorflow as tf\n",
    "keras = tf.keras\n",
    "import keras.backend as K\n",
    "import random\n",
    "\n",
    "from sklearn.preprocessing import MinMaxScaler\n",
    "from sklearn.metrics import accuracy_score as accuracy\n",
    "from sklearn.model_selection import train_test_split\n",
    "from sklearn.metrics import confusion_matrix, classification_report, f1_score\n",
    "from keras.callbacks import Callback\n",
    "from pandas import DataFrame\n",
    "from pprint import pprint\n",
    "\n",
    "from keras.callbacks import EarlyStopping\n",
    "from keras.layers import Dropout, Embedding, LSTM, Bidirectional\n",
    "from tensorflow.keras.layers import Input, concatenate, Dense\n",
    "from tensorflow.keras.models import Model\n",
    "from tensorflow.python.keras.utils.vis_utils import plot_model\n",
    "from keras import models, layers\n",
    "from keras.optimizers import Adam, RMSprop\n",
    "from keras.layers import Activation, Dense\n",
    "from keras.models import Sequential\n",
    "from keras.preprocessing import sequence\n",
    "from keras import metrics\n",
    "from sklearn.metrics import f1_score\n",
    "\n",
    "import scipy.stats as stats\n",
    "\n",
    "# os.environ[\"CUDA_VISIBLE_DEVICES\"] = \"0\"\n",
    "warnings.simplefilter('ignore')"
   ]
  },
  {
   "cell_type": "code",
   "execution_count": 2,
   "metadata": {},
   "outputs": [],
   "source": [
    "def divide_genre(path):\n",
    "    file = glob.glob(path)\n",
    "    file_up_down          = [file_name for file_name in file if \"up-down\" in file_name]\n",
    "    file_up_down_big      = [file_name for file_name in file_up_down if \"big\" in file_name]\n",
    "    file_up_down_small    = [file_name for file_name in file_up_down if \"small\" in file_name]\n",
    "    \n",
    "    file_left_right       = [file_name for file_name in file if \"left-right\" in file_name]\n",
    "    file_left_right_big   = [file_name for file_name in file_left_right if \"big\" in file_name]\n",
    "    file_left_right_small = [file_name for file_name in file_left_right if \"small\" in file_name]\n",
    "    \n",
    "    return list([file_up_down_big, file_up_down_small, file_left_right_big, file_left_right_small])"
   ]
  },
  {
   "cell_type": "code",
   "execution_count": 3,
   "metadata": {},
   "outputs": [],
   "source": [
    "def separate_train_test(files):\n",
    "    \n",
    "    def random_choise(files):\n",
    "        random.seed(0)\n",
    "        test_file = random.choice(files) # 入力されたファイル群から１つをTestファイルとして抽出\n",
    "        files.remove(test_file) # 抽出したファイルを元のファイル群から削除\n",
    "        train_file = files # 削除後のファイル群をTrainファイルとする\n",
    "        return train_file, test_file\n",
    "\n",
    "    train_list = []\n",
    "    test_list = []\n",
    "    for label_num in range(len(files)):\n",
    "        train, test = random_choise(files[label_num])\n",
    "        train_list.extend(train)\n",
    "        test_list.append(test)\n",
    "    return train_list, test_list"
   ]
  },
  {
   "cell_type": "code",
   "execution_count": 4,
   "metadata": {},
   "outputs": [],
   "source": [
    "list_osawa_file  = divide_genre(\"data/*osawa*\")\n",
    "list_sasaki_file = divide_genre(\"data/*sasaki*\")"
   ]
  },
  {
   "cell_type": "code",
   "execution_count": 5,
   "metadata": {},
   "outputs": [],
   "source": [
    "train_osawa, test_osawa = separate_train_test(list_osawa_file)\n",
    "train_sasaki, test_sasaki = separate_train_test(list_sasaki_file)"
   ]
  },
  {
   "cell_type": "code",
   "execution_count": 6,
   "metadata": {},
   "outputs": [],
   "source": [
    "train = train_osawa + train_sasaki"
   ]
  },
  {
   "cell_type": "code",
   "execution_count": 7,
   "metadata": {},
   "outputs": [],
   "source": [
    "test = test_osawa + test_sasaki"
   ]
  },
  {
   "cell_type": "code",
   "execution_count": 8,
   "metadata": {},
   "outputs": [],
   "source": [
    "def minmax(value, max_, min_):\n",
    "    return (value - min_)/(max_ - min_)"
   ]
  },
  {
   "cell_type": "code",
   "execution_count": 9,
   "metadata": {},
   "outputs": [],
   "source": [
    "def prepro_just(file, window_size):\n",
    "    def append_data(data_a, data_b):\n",
    "        for i in range(len(data_b)):\n",
    "            data_a.append(data_b[i])\n",
    "\n",
    "        return data_a\n",
    "    \n",
    "    data_acc_fin = []\n",
    "    data_do_fin = []\n",
    "    data_rot_fin = []\n",
    "    data_acc_z_fin = []\n",
    "    label_fin = []\n",
    "    \n",
    "    for file_num in range(len(file)):\n",
    "        df = pd.read_csv(file[file_num])\n",
    "        if '姿勢なし' in df.values:\n",
    "            continue\n",
    "        \n",
    "        # 0:left-right+small\n",
    "        # 1:left-right+big\n",
    "        # 2:up-down+small\n",
    "        # 3:up-down+big\n",
    "        df = df.replace({'直立':0, '歩行':1, '着席':3, '寝る':2})\n",
    "        df = df[['date', 'label', 's_movement', 'do_alpha', 'do_beta', 'do_gamma', \n",
    "                 'acc_g_x', 'acc_g_y', 'acc_g_z', 'acc_x', 'acc_y', 'acc_z', 'rot_alpha', 'rot_beta', 'rot_gamma']]\n",
    "        \n",
    "        # acceleration composite\n",
    "        df['acc_composite'] = (df['acc_x']**2 + df['acc_y']**2 + df['acc_z']**2) ** 1/2\n",
    "        df['acc_composite_minmax'] = minmax(df['acc_composite'], 1262.865, 0)\n",
    "        \n",
    "        # rotation pre\n",
    "        df['do_beta_pre'] = (df['do_beta']+180)/360\n",
    "        df['do_gamma_pre'] = (df['do_gamma']+90)/180\n",
    "        \n",
    "        df['rot_beta_pre'] = (df['rot_beta']+300)/600\n",
    "        df['rot_gamma_pre'] = (df['rot_gamma']+300)/600\n",
    "        \n",
    "        # standardization\n",
    "        df['acc_z_sta_min'] = df['acc_z'] + 18\n",
    "#         df['acc_z_sta_max'] = df['acc_z'] + 26\n",
    "        \n",
    "        df['acc_z_sta_min_minmax'] = minmax(df['acc_z_sta_min'], 54.800000, 2.2)\n",
    "#         df['acc_z_sta_max_minmax'] = minmax(df['acc_z_sta_max'], 51, 7)\n",
    "        \n",
    "#         if mima=='min':\n",
    "        data_acc = np.array(df[['acc_composite_minmax']])\n",
    "        data_do = np.array(df[['do_beta_pre', 'do_gamma_pre']])\n",
    "        data_rot = np.array(df[['rot_beta_pre', 'rot_gamma_pre']])\n",
    "        data_acc_z = np.array(df[['acc_z_sta_min_minmax']])\n",
    "#         elif mima=='max':\n",
    "#             data_acc = np.array(df[['acc_composite_minmax']])\n",
    "#             data_do = np.array(df[['do_beta_pre', 'do_gamma_pre']])\n",
    "#             data_rot = np.array(df[['rot_beta_pre', 'rot_gamma_pre']])\n",
    "#             data_acc_z = np.array(df[['acc_z_sta_max_minmax']])\n",
    "        label = np.array(df[['label']])\n",
    "        \n",
    "        data_acc = [data_acc[i:i+window_size] for i in range(len(data_acc)-window_size)]\n",
    "        data_do = [data_do[i:i+window_size] for i in range(len(data_do)-window_size)]\n",
    "        data_rot = [data_rot[i:i+window_size] for i in range(len(data_rot)-window_size)]\n",
    "        data_acc_z = [data_acc_z[i:i+window_size] for i in range(len(data_acc_z)-window_size)]\n",
    "        \n",
    "        data_label = [label[i+window_size] for i in range(len(label)-window_size)]\n",
    "        \n",
    "        data_acc = append_data(data_acc_fin, data_acc)\n",
    "        data_do = append_data(data_do_fin, data_do)\n",
    "        data_rot = append_data(data_rot_fin, data_rot)\n",
    "        data_acc_z = append_data(data_acc_z_fin, data_acc_z)\n",
    "        data_label = append_data(label_fin, data_label)\n",
    "    \n",
    "    data_acc_fin = np.array(data_acc)\n",
    "    data_do_fin = np.array(data_do)\n",
    "    data_rot_fin = np.array(data_rot)\n",
    "    data_acc_z_fin = np.array(data_acc_z)\n",
    "    \n",
    "    label_fin = np.array(data_label, dtype='int32')\n",
    "    \n",
    "    return data_acc_fin, data_do_fin, data_rot_fin, data_acc_z_fin, label_fin"
   ]
  },
  {
   "cell_type": "code",
   "execution_count": 10,
   "metadata": {},
   "outputs": [],
   "source": [
    "window_size = 10\n",
    "\n",
    "train_acc, train_do, train_rot, train_acc_z, train_label = prepro_just(train, window_size)\n",
    "test_acc, test_do, test_rot, test_acc_z, test_label = prepro_just(test, window_size)"
   ]
  },
  {
   "cell_type": "code",
   "execution_count": 11,
   "metadata": {},
   "outputs": [
    {
     "name": "stdout",
     "output_type": "stream",
     "text": [
      "(22687, 10, 1) (22687, 10, 2) (22687, 10, 2) (22687, 10, 1) (22687, 1)\n",
      "(2406, 10, 1) (2406, 10, 2) (2406, 10, 2) (2406, 10, 1) (2406, 1)\n"
     ]
    }
   ],
   "source": [
    "print(train_acc.shape, train_do.shape, train_rot.shape, train_acc_z.shape, train_label.shape)\n",
    "print(test_acc.shape, test_do.shape, test_rot.shape, test_acc_z.shape, test_label.shape)"
   ]
  },
  {
   "cell_type": "code",
   "execution_count": 12,
   "metadata": {},
   "outputs": [
    {
     "data": {
      "text/plain": [
       "numpy.ndarray"
      ]
     },
     "execution_count": 12,
     "metadata": {},
     "output_type": "execute_result"
    }
   ],
   "source": [
    "type(test_acc)"
   ]
  },
  {
   "cell_type": "code",
   "execution_count": 13,
   "metadata": {},
   "outputs": [
    {
     "data": {
      "text/plain": [
       "array([0, 1, 2, 3], dtype=int32)"
      ]
     },
     "execution_count": 13,
     "metadata": {},
     "output_type": "execute_result"
    }
   ],
   "source": [
    "np.unique(train_label)"
   ]
  },
  {
   "cell_type": "code",
   "execution_count": 14,
   "metadata": {},
   "outputs": [],
   "source": [
    "class_num = 4\n",
    "n_hidden = 100"
   ]
  },
  {
   "cell_type": "code",
   "execution_count": 15,
   "metadata": {},
   "outputs": [
    {
     "name": "stdout",
     "output_type": "stream",
     "text": [
      "Model: \"model_4\"\n",
      "__________________________________________________________________________________________________\n",
      "Layer (type)                    Output Shape         Param #     Connected to                     \n",
      "==================================================================================================\n",
      "input_1 (InputLayer)            [(None, 10, 1)]      0                                            \n",
      "__________________________________________________________________________________________________\n",
      "input_2 (InputLayer)            [(None, 10, 2)]      0                                            \n",
      "__________________________________________________________________________________________________\n",
      "input_3 (InputLayer)            [(None, 10, 2)]      0                                            \n",
      "__________________________________________________________________________________________________\n",
      "input_4 (InputLayer)            [(None, 10, 1)]      0                                            \n",
      "__________________________________________________________________________________________________\n",
      "conv1d (Conv1D)                 (None, 8, 64)        256         input_1[0][0]                    \n",
      "__________________________________________________________________________________________________\n",
      "conv1d_2 (Conv1D)               (None, 8, 64)        448         input_2[0][0]                    \n",
      "__________________________________________________________________________________________________\n",
      "conv1d_4 (Conv1D)               (None, 8, 64)        448         input_3[0][0]                    \n",
      "__________________________________________________________________________________________________\n",
      "conv1d_6 (Conv1D)               (None, 8, 64)        256         input_4[0][0]                    \n",
      "__________________________________________________________________________________________________\n",
      "conv1d_1 (Conv1D)               (None, 4, 64)        12352       conv1d[0][0]                     \n",
      "__________________________________________________________________________________________________\n",
      "conv1d_3 (Conv1D)               (None, 4, 64)        12352       conv1d_2[0][0]                   \n",
      "__________________________________________________________________________________________________\n",
      "conv1d_5 (Conv1D)               (None, 4, 64)        12352       conv1d_4[0][0]                   \n",
      "__________________________________________________________________________________________________\n",
      "conv1d_7 (Conv1D)               (None, 4, 64)        12352       conv1d_6[0][0]                   \n",
      "__________________________________________________________________________________________________\n",
      "concatenate (Concatenate)       (None, 4, 256)       0           conv1d_1[0][0]                   \n",
      "                                                                 conv1d_3[0][0]                   \n",
      "                                                                 conv1d_5[0][0]                   \n",
      "                                                                 conv1d_7[0][0]                   \n",
      "__________________________________________________________________________________________________\n",
      "lstm (LSTM)                     (None, 4, 100)       142800      concatenate[0][0]                \n",
      "__________________________________________________________________________________________________\n",
      "lstm_1 (LSTM)                   (None, 100)          80400       lstm[0][0]                       \n",
      "__________________________________________________________________________________________________\n",
      "dense (Dense)                   (None, 10)           1010        lstm_1[0][0]                     \n",
      "__________________________________________________________________________________________________\n",
      "dense_1 (Dense)                 (None, 4)            44          dense[0][0]                      \n",
      "==================================================================================================\n",
      "Total params: 275,070\n",
      "Trainable params: 275,070\n",
      "Non-trainable params: 0\n",
      "__________________________________________________________________________________________________\n"
     ]
    }
   ],
   "source": [
    "# 入力を定義\n",
    "input_acc = Input(shape=(window_size,1))\n",
    "input_do = Input(shape=(window_size,2))\n",
    "input_rot = Input(shape=(window_size,2))\n",
    "input_acc_z = Input(shape=(window_size,1))\n",
    "\n",
    "# 入力1から結合前まで(Conv1D)\n",
    "acc = tf.keras.layers.Conv1D(filters=64, kernel_size=3, dilation_rate=1, activation='relu')(input_acc)\n",
    "acc = tf.keras.layers.Conv1D(filters=64, kernel_size=3, dilation_rate=2, activation='relu')(acc)\n",
    "\n",
    "acc = Model(inputs=input_acc, outputs=acc)\n",
    "\n",
    "# 入力2から結合前まで(Conv1D)\n",
    "do = tf.keras.layers.Conv1D(filters=64, kernel_size=3, dilation_rate=1, activation='relu')(input_do)\n",
    "do = tf.keras.layers.Conv1D(filters=64, kernel_size=3, dilation_rate=2, activation='relu')(do)\n",
    "\n",
    "do = Model(inputs=input_do, outputs=do)\n",
    "\n",
    "# 入力1から結合前まで(Conv1D)\n",
    "rot = tf.keras.layers.Conv1D(filters=64, kernel_size=3, dilation_rate=1, activation='relu')(input_rot)\n",
    "rot = tf.keras.layers.Conv1D(filters=64, kernel_size=3, dilation_rate=2, activation='relu')(rot)\n",
    "\n",
    "rot = Model(inputs=input_rot, outputs=rot)\n",
    "\n",
    "# 入力2から結合前まで(Conv1D)\n",
    "acc_z = tf.keras.layers.Conv1D(filters=64, kernel_size=3, dilation_rate=1, activation='relu')(input_acc_z)\n",
    "acc_z = tf.keras.layers.Conv1D(filters=64, kernel_size=3, dilation_rate=2, activation='relu')(acc_z)\n",
    "\n",
    "acc_z = Model(inputs=input_acc_z, outputs=acc_z)\n",
    "\n",
    "# 結合\n",
    "combined = concatenate([acc.output, do.output, rot.output, acc_z.output])\n",
    "\n",
    "# 密結合\n",
    "z = tf.keras.layers.LSTM(units=n_hidden, return_sequences=True)(combined)\n",
    "z = tf.keras.layers.LSTM(units=n_hidden, return_sequences=False)(z)\n",
    "\n",
    "z = tf.keras.layers.Dense(units=10, activation='relu')(z)\n",
    "z = tf.keras.layers.Dense(class_num, activation='softmax')(z)\n",
    "\n",
    "# モデル定義とコンパイル\n",
    "rnn = tf.keras.Model(inputs=[acc.input, do.input, rot.input, acc_z.input], outputs=z)\n",
    "rnn.compile(loss='sparse_categorical_crossentropy', optimizer='adam', metrics=['acc'])\n",
    "rnn.summary()"
   ]
  },
  {
   "cell_type": "code",
   "execution_count": 16,
   "metadata": {},
   "outputs": [
    {
     "data": {
      "text/plain": [
       "[array([[[-0.1259863 ,  0.03570956,  0.10315929,  0.13356434,\n",
       "          -0.16238649, -0.08190893, -0.13347416, -0.09564651,\n",
       "          -0.15756086, -0.02953774, -0.0266073 ,  0.06849574,\n",
       "           0.10208984, -0.07330423, -0.02315633,  0.15494446,\n",
       "          -0.10100771,  0.08858036, -0.1130496 , -0.1647074 ,\n",
       "           0.167578  ,  0.05835639,  0.0743992 ,  0.03481634,\n",
       "          -0.01221302,  0.00984579,  0.15628503, -0.01234429,\n",
       "          -0.16892414,  0.06961612,  0.11595835, -0.10542133,\n",
       "          -0.15783164, -0.13850072, -0.04264359, -0.04031448,\n",
       "           0.02133715, -0.08567951,  0.01320167,  0.17480423,\n",
       "           0.09703298,  0.07699178, -0.15771957, -0.12168053,\n",
       "           0.02956818,  0.01169552,  0.13351877, -0.12017915,\n",
       "          -0.1519843 ,  0.08549441,  0.14568801, -0.06894267,\n",
       "           0.09646107,  0.08272241, -0.10169288,  0.13759924,\n",
       "           0.12580772, -0.06955958,  0.11084004,  0.04147778,\n",
       "          -0.09692352,  0.00274318, -0.13820311, -0.13127059]],\n",
       " \n",
       "        [[-0.08956944, -0.14825195, -0.12136319,  0.12616287,\n",
       "          -0.13000156,  0.12085681,  0.08578561,  0.06382562,\n",
       "          -0.08497064,  0.06955987, -0.00836939,  0.13290338,\n",
       "           0.12548576,  0.09253927,  0.00217789,  0.10736533,\n",
       "          -0.05833326,  0.07229169,  0.14862852,  0.09152813,\n",
       "          -0.0555802 , -0.01135471,  0.02323212,  0.11782502,\n",
       "          -0.14481051, -0.07923571, -0.17398925,  0.10896398,\n",
       "           0.10913022, -0.16041847,  0.02622828, -0.01966023,\n",
       "          -0.00479607, -0.03578137, -0.10665611, -0.12593143,\n",
       "           0.15630148,  0.07077588,  0.06640889, -0.07348837,\n",
       "           0.08644713,  0.01249894, -0.05050635,  0.11141159,\n",
       "           0.09281231, -0.1389303 ,  0.11123146, -0.03593422,\n",
       "          -0.02162664,  0.09231488,  0.03302217, -0.02329761,\n",
       "           0.16206895, -0.08966747, -0.1410729 , -0.00435098,\n",
       "          -0.12359967,  0.1703689 , -0.15123232, -0.06043696,\n",
       "           0.14613344,  0.03382166, -0.00980535,  0.02534902]],\n",
       " \n",
       "        [[-0.05016793, -0.04156582, -0.11540908, -0.0692417 ,\n",
       "          -0.04169667,  0.01922429,  0.10688488, -0.16618012,\n",
       "          -0.139705  , -0.156881  ,  0.15314297,  0.0359702 ,\n",
       "          -0.10235679,  0.01029211, -0.12735917,  0.16172238,\n",
       "           0.05105115,  0.02075925,  0.05470985, -0.09055337,\n",
       "          -0.01694092,  0.02435686, -0.13509607, -0.0776723 ,\n",
       "          -0.11938114,  0.06479533, -0.14312963, -0.05032744,\n",
       "          -0.10962187, -0.14811198, -0.17521901,  0.0329826 ,\n",
       "           0.07499267, -0.17378128, -0.1107792 , -0.04724206,\n",
       "          -0.02279119, -0.1751833 ,  0.0698985 , -0.04569533,\n",
       "           0.09082367, -0.09354138, -0.10793652,  0.15337642,\n",
       "           0.07110618, -0.10488862, -0.12561074, -0.04257229,\n",
       "          -0.14776373, -0.117823  , -0.05883909, -0.1478216 ,\n",
       "          -0.05111682,  0.09440787,  0.01370433, -0.06913535,\n",
       "           0.14420323,  0.15908726, -0.12222303,  0.0807675 ,\n",
       "           0.06887263, -0.02807435,  0.10306971, -0.13677007]]],\n",
       "       dtype=float32),\n",
       " array([0., 0., 0., 0., 0., 0., 0., 0., 0., 0., 0., 0., 0., 0., 0., 0., 0.,\n",
       "        0., 0., 0., 0., 0., 0., 0., 0., 0., 0., 0., 0., 0., 0., 0., 0., 0.,\n",
       "        0., 0., 0., 0., 0., 0., 0., 0., 0., 0., 0., 0., 0., 0., 0., 0., 0.,\n",
       "        0., 0., 0., 0., 0., 0., 0., 0., 0., 0., 0., 0., 0.], dtype=float32)]"
      ]
     },
     "execution_count": 16,
     "metadata": {},
     "output_type": "execute_result"
    }
   ],
   "source": [
    "l = rnn.layers[7]\n",
    "l.get_weights()"
   ]
  },
  {
   "cell_type": "code",
   "execution_count": 17,
   "metadata": {},
   "outputs": [],
   "source": [
    "rnn.compile(loss='sparse_categorical_crossentropy', \n",
    "                      optimizer='adam', \n",
    "                      metrics=['accuracy'])"
   ]
  },
  {
   "cell_type": "code",
   "execution_count": 18,
   "metadata": {},
   "outputs": [
    {
     "name": "stdout",
     "output_type": "stream",
     "text": [
      "Epoch 1/10000\n",
      "320/320 [==============================] - 10s 23ms/step - loss: 0.7148 - accuracy: 0.6694 - val_loss: 0.0253 - val_accuracy: 1.0000\n",
      "Epoch 2/10000\n",
      "320/320 [==============================] - 6s 20ms/step - loss: 0.0465 - accuracy: 0.9870 - val_loss: 0.0219 - val_accuracy: 0.9974\n",
      "Epoch 3/10000\n",
      "320/320 [==============================] - 6s 19ms/step - loss: 0.0228 - accuracy: 0.9929 - val_loss: 0.8376 - val_accuracy: 0.6946\n",
      "Epoch 4/10000\n",
      "320/320 [==============================] - 6s 19ms/step - loss: 0.0246 - accuracy: 0.9925 - val_loss: 0.1448 - val_accuracy: 0.9731\n",
      "Epoch 5/10000\n",
      "320/320 [==============================] - 6s 18ms/step - loss: 0.0207 - accuracy: 0.9931 - val_loss: 0.2571 - val_accuracy: 0.8951\n"
     ]
    }
   ],
   "source": [
    "callback = tf.keras.callbacks.EarlyStopping(monitor='val_loss', patience=3)\n",
    "rnn.fit([train_acc, train_do, train_rot, train_acc_z], train_label,\n",
    "        batch_size=64,\n",
    "        epochs=10000,\n",
    "        validation_split=0.1,\n",
    "        callbacks=[callback]\n",
    "       )\n",
    "\n",
    "predict_classes = rnn.predict([test_acc, test_do, test_rot, test_acc_z])\n",
    "true_classes = test_label\n",
    "\n",
    "pre_cla = []\n",
    "\n",
    "for i in range(len(predict_classes)):\n",
    "    max_ = np.amax(predict_classes[i])\n",
    "    for j in range(len(predict_classes[i])):\n",
    "        if max_==predict_classes[i][j]:\n",
    "            pre_cla.append(j)\n",
    "\n",
    "predict_classes = np.array(pre_cla)"
   ]
  },
  {
   "cell_type": "code",
   "execution_count": 21,
   "metadata": {},
   "outputs": [
    {
     "data": {
      "image/png": "[encoded data removed]",
      "text/plain": [
       "<Figure size 1080x1080 with 2 Axes>"
      ]
     },
     "metadata": {
      "needs_background": "light"
     },
     "output_type": "display_data"
    }
   ],
   "source": [
    "target_names = ['left_right_small', 'left_right_big', 'up_down_small', 'up_down_big']\n",
    "title = 'test'\n",
    "\n",
    "def print_cmx(y_true, y_pred, labels, title):\n",
    "    cmx_data = confusion_matrix(y_true, y_pred)\n",
    "    \n",
    "    cmx_data = cmx_data.astype('float') / cmx_data.sum(axis=1)[:, np.newaxis]\n",
    "    \n",
    "    cmx_data = cmx_data.round(2)\n",
    "    \n",
    "    df_cmx = pd.DataFrame(cmx_data, index=labels, columns=labels)\n",
    " \n",
    "    plt.figure(figsize = (15,15))\n",
    "    sn.heatmap(df_cmx, annot=True, fmt='g', square = True, cmap='Reds', vmin=0.0, vmax=1.0)\n",
    "    sn.set_context('poster')\n",
    "    \n",
    "    plt.ylim(4, 0)\n",
    "    plt.xlabel(\"Predict-labels\")\n",
    "    plt.ylabel(\"True-labels\")\n",
    "    \n",
    "    plt.title(title)\n",
    "#     plt.savefig('../../../../data_image/confusion_matrix/200708/'+title+'.png')    \n",
    "    plt.show()    \n",
    "    return \n",
    "    \n",
    "print_cmx(true_classes, predict_classes, target_names, title)"
   ]
  },
  {
   "cell_type": "code",
   "execution_count": 12,
   "metadata": {},
   "outputs": [
    {
     "data": {
      "text/plain": [
       "[array([[[ 0.09260963,  0.08079112, -0.15501861,  0.05991646,\n",
       "          -0.09732731, -0.02816252,  0.4701737 , -0.12720065,\n",
       "           0.23571402, -0.05862036,  0.02933812, -0.12998405,\n",
       "           0.20174989, -0.17472205, -0.17181791,  0.06706315,\n",
       "          -0.05058275,  0.04446934,  0.1110663 , -0.12609926,\n",
       "          -0.48334706, -0.13894105,  0.48290014,  0.11177219,\n",
       "           0.00961643,  0.4635312 , -0.05604097, -0.38083616,\n",
       "          -0.21138968,  0.01416725,  0.03964747,  0.24123323,\n",
       "          -0.11784689,  0.00942253, -0.20342556,  0.46958247,\n",
       "           0.55074984,  0.3956203 ,  0.05232222,  0.22194132,\n",
       "          -0.51804996, -0.30994937, -0.08266456, -0.03688082,\n",
       "           0.581103  ,  0.22002569, -0.26059437,  0.33626592,\n",
       "           0.09262782, -0.17575549, -0.01658361, -0.12992796,\n",
       "          -0.14914367, -0.02036634,  0.39558858,  0.02487605,\n",
       "          -0.07317794, -0.20648386,  0.04502194,  0.06875788,\n",
       "          -0.01020426, -0.37162325,  0.3856057 ,  0.2853082 ]],\n",
       " \n",
       "        [[-0.01905601, -0.06241659,  0.04681386,  0.30679277,\n",
       "          -0.04485674, -0.0828206 , -0.15408419, -0.18553182,\n",
       "          -0.23334616, -0.11007027, -0.16980907, -0.11690091,\n",
       "          -0.32365122,  0.02622971, -0.18555033, -0.05788988,\n",
       "          -0.12953153, -0.06239537, -0.16351186, -0.1474998 ,\n",
       "           0.17283928, -0.16112043, -0.07065909, -0.34336907,\n",
       "           0.09713131, -0.25066867, -0.00446539,  0.2818774 ,\n",
       "          -0.02352275, -0.08752505, -0.12687296,  0.21033771,\n",
       "          -0.14872718, -0.01994722, -0.32774025,  0.06517772,\n",
       "          -0.136422  ,  0.12351887,  0.03111469, -0.08598921,\n",
       "           0.11333159,  0.284417  , -0.08587645, -0.04232834,\n",
       "          -0.15421803,  0.07404993,  0.28711617,  0.15939495,\n",
       "          -0.35462195, -0.16716035, -0.07996788, -0.16024406,\n",
       "          -0.10152233, -0.16494656, -0.11459211,  0.04177278,\n",
       "          -0.02901904,  0.04301886, -0.11441951, -0.0736077 ,\n",
       "           0.20735376,  0.43687442,  0.38560313, -0.34021172]],\n",
       " \n",
       "        [[-0.1163178 ,  0.52879333, -0.15923491, -0.36309072,\n",
       "          -0.15085797,  0.00810879,  0.00666388,  0.11684958,\n",
       "           0.5628982 ,  0.59989595, -0.06062511,  0.13200806,\n",
       "           0.06375092, -0.175015  ,  0.14363953,  0.04139867,\n",
       "          -0.10397829, -0.06906776, -0.09368046, -0.07349343,\n",
       "           0.05530845, -0.07465506, -0.04763744,  0.17157082,\n",
       "           0.42913324,  0.36612016,  0.52609444, -0.18212067,\n",
       "           0.10348945, -0.11303705, -0.0180658 , -0.53955066,\n",
       "           0.07671024, -0.1040084 ,  0.5342527 , -0.12188193,\n",
       "          -0.01244524, -0.06124786, -0.00310452,  0.41086566,\n",
       "           0.32142007, -0.17705446, -0.06583388, -0.09063409,\n",
       "          -0.03141449,  0.25189742, -0.10361619, -0.46903485,\n",
       "           0.24185415,  0.14882553,  0.00225459,  0.07400942,\n",
       "           0.04844983, -0.05239157,  0.23373483, -0.09548862,\n",
       "           0.05361847,  0.067362  , -0.15600497, -0.04949581,\n",
       "          -0.4118821 , -0.2643092 , -0.30219245,  0.04992439]]],\n",
       "       dtype=float32),\n",
       " array([-0.06885685, -0.18203203,  0.        ,  0.03561966,  0.        ,\n",
       "         0.        , -0.10170127, -0.03147777, -0.18434234, -0.13633706,\n",
       "         0.        , -0.03526559, -0.00435232,  0.        , -0.00958771,\n",
       "        -0.08518115,  0.        ,  0.        , -0.01518084,  0.        ,\n",
       "         0.13285406,  0.        , -0.11171255,  0.03940631, -0.20125271,\n",
       "        -0.18194349, -0.17069334,  0.17824246, -0.03040658,  0.        ,\n",
       "        -0.0261237 ,  0.08199465,  0.        ,  0.        ,  0.00764498,\n",
       "        -0.14601682, -0.12392266, -0.17365463, -0.09332944, -0.18682759,\n",
       "         0.04015271,  0.09550282,  0.        ,  0.        , -0.12150102,\n",
       "        -0.19373375,  0.05382838,  0.03150297,  0.01660337, -0.04316324,\n",
       "         0.        ,  0.        ,  0.        ,  0.        , -0.17697263,\n",
       "        -0.03648274, -0.02107899, -0.04804346,  0.        , -0.02622346,\n",
       "         0.11893891,  0.1422095 , -0.15681909, -0.03024703], dtype=float32)]"
      ]
     },
     "execution_count": 12,
     "metadata": {},
     "output_type": "execute_result"
    }
   ],
   "source": [
    "l = rnn.layers[7]\n",
    "l.get_weights()"
   ]
  },
  {
   "cell_type": "code",
   "execution_count": 15,
   "metadata": {},
   "outputs": [
    {
     "data": {
      "text/plain": [
       "[array([[[ 0.09260963,  0.0746787 , -0.15501861,  0.07355212,\n",
       "          -0.09732731, -0.02816252,  0.53642476, -0.12720065,\n",
       "           0.25437   , -0.07668994,  0.02933812, -0.12998405,\n",
       "           0.21339598, -0.17472205, -0.17181791,  0.06706315,\n",
       "          -0.05058275,  0.04446934,  0.1110663 , -0.12609926,\n",
       "          -0.5462891 , -0.13894105,  0.54855746,  0.14253621,\n",
       "           0.0097314 ,  0.51294243, -0.06310222, -0.44204247,\n",
       "          -0.21138968,  0.01416725,  0.03964747,  0.2499216 ,\n",
       "          -0.11784689,  0.00942253, -0.18305327,  0.5387885 ,\n",
       "           0.6273895 ,  0.45669463,  0.05232222,  0.23943147,\n",
       "          -0.58388275, -0.34913257, -0.08266456, -0.03688082,\n",
       "           0.6624751 ,  0.2442679 , -0.30788183,  0.36181802,\n",
       "           0.11159351, -0.17575549, -0.01658361, -0.12992796,\n",
       "          -0.14914367, -0.02036634,  0.4390408 ,  0.02487605,\n",
       "          -0.07317794, -0.20648386,  0.04502194,  0.06875788,\n",
       "          -0.00713551, -0.4094869 ,  0.41256362,  0.31054837]],\n",
       " \n",
       "        [[-0.01905601, -0.06732264,  0.04681386,  0.30954677,\n",
       "          -0.04485674, -0.0828206 , -0.16130096, -0.18553182,\n",
       "          -0.2298601 , -0.11288285, -0.16980907, -0.11690091,\n",
       "          -0.3721572 ,  0.02622971, -0.18555033, -0.05788988,\n",
       "          -0.12953153, -0.06239537, -0.16351186, -0.1474998 ,\n",
       "           0.20898762, -0.16112043, -0.07852351, -0.39576712,\n",
       "           0.09366249, -0.24896918,  0.00235102,  0.28765583,\n",
       "          -0.02352275, -0.08752505, -0.12687296,  0.24140652,\n",
       "          -0.14872718, -0.01994722, -0.36313266,  0.07279672,\n",
       "          -0.13636136,  0.13999195,  0.03111469, -0.07973563,\n",
       "           0.15418887,  0.3042485 , -0.08587645, -0.04232834,\n",
       "          -0.14204459,  0.08075559,  0.30394134,  0.18732086,\n",
       "          -0.40208772, -0.16716035, -0.07996788, -0.16024406,\n",
       "          -0.10152233, -0.16494656, -0.10981899,  0.04177278,\n",
       "          -0.02901904,  0.04301886, -0.11441951, -0.0736077 ,\n",
       "           0.21867236,  0.4534656 ,  0.414605  , -0.37013057]],\n",
       " \n",
       "        [[-0.1163178 ,  0.56552446, -0.15923491, -0.4490881 ,\n",
       "          -0.15085797,  0.00810879,  0.00522421,  0.11684958,\n",
       "           0.6058661 ,  0.6572124 , -0.06062511,  0.13200806,\n",
       "           0.06815928, -0.175015  ,  0.14363953,  0.04139867,\n",
       "          -0.10397829, -0.06906776, -0.09368046, -0.07349343,\n",
       "           0.0536789 , -0.07465506, -0.04666973,  0.20079003,\n",
       "           0.48039922,  0.3894817 ,  0.59030473, -0.20071317,\n",
       "           0.10348945, -0.11303705, -0.0180658 , -0.6367969 ,\n",
       "           0.07671024, -0.1040084 ,  0.6026087 , -0.1289813 ,\n",
       "          -0.01457229, -0.05338735, -0.00310452,  0.4489212 ,\n",
       "           0.34866753, -0.21518528, -0.06583388, -0.09063409,\n",
       "          -0.03401168,  0.27183458, -0.11222626, -0.55266356,\n",
       "           0.2879511 ,  0.14882553,  0.00225459,  0.07400942,\n",
       "           0.04844983, -0.05239157,  0.24446504, -0.09548862,\n",
       "           0.05361847,  0.067362  , -0.15600497, -0.04949581,\n",
       "          -0.4860989 , -0.27994132, -0.34826925,  0.06731986]]],\n",
       "       dtype=float32),\n",
       " array([-0.06885685, -0.22109301,  0.        ,  0.04608759,  0.        ,\n",
       "         0.        , -0.13109906, -0.03147777, -0.21010779, -0.16829655,\n",
       "         0.        , -0.03526559, -0.02266102,  0.        , -0.00958771,\n",
       "        -0.08518115,  0.        ,  0.        , -0.01518084,  0.        ,\n",
       "         0.17598264,  0.        , -0.14861296,  0.03813722, -0.23343536,\n",
       "        -0.21267363, -0.19514737,  0.20757972, -0.03040658,  0.        ,\n",
       "        -0.0261237 ,  0.10582968,  0.        ,  0.        ,  0.00452048,\n",
       "        -0.18841223, -0.15452772, -0.21450053, -0.09332944, -0.21841255,\n",
       "         0.0673769 ,  0.11793047,  0.        ,  0.        , -0.15494418,\n",
       "        -0.23429742,  0.07596438,  0.03960583,  0.01574119, -0.04316324,\n",
       "         0.        ,  0.        ,  0.        ,  0.        , -0.2127832 ,\n",
       "        -0.03648274, -0.02107899, -0.04804346,  0.        , -0.02622346,\n",
       "         0.15263718,  0.17940451, -0.1934704 , -0.03375457], dtype=float32)]"
      ]
     },
     "execution_count": 15,
     "metadata": {},
     "output_type": "execute_result"
    }
   ],
   "source": [
    "l_1 = rnn.layers[7]\n",
    "l_1.get_weights()"
   ]
  },
  {
   "cell_type": "code",
   "execution_count": 13,
   "metadata": {},
   "outputs": [
    {
     "data": {
      "text/plain": [
       "<function matplotlib.pyplot.show(*args, **kw)>"
      ]
     },
     "execution_count": 13,
     "metadata": {},
     "output_type": "execute_result"
    },
    {
     "data": {
      "image/png": "[encoded data removed]",
      "text/plain": [
       "<Figure size 1440x1440 with 2 Axes>"
      ]
     },
     "metadata": {
      "needs_background": "light"
     },
     "output_type": "display_data"
    }
   ],
   "source": [
    "files = glob.glob('../../data/building_home/0all/test/*.csv')\n",
    "\n",
    "df_change = pd.read_csv(files[0])\n",
    "pre = pd.DataFrame({'label':predict_classes})\n",
    "df_change = df_change.replace({'直立':0, '歩行':1, '階段 - 下り':2, '階段 - 上り':2, '着席':0, '寝る':3})\n",
    "\n",
    "\n",
    "sliced_label_0 = np.identity(4)[df_change.label]\n",
    "sliced_label_1 = np.identity(4)[pre.label]\n",
    "\n",
    "bar_0 = np.argmax(sliced_label_0,axis=1)\n",
    "bar_1 = np.argmax(sliced_label_1,axis=1)\n",
    "\n",
    "plt.figure(figsize=(20, 20))\n",
    "plt.subplot(2,1,1)\n",
    "for t in range(4):\n",
    "    plt.bar(range(len(bar_0)),df_change.label==t,width=1)\n",
    "    \n",
    "plt.subplot(2,1,2)\n",
    "for t in range(4):\n",
    "    plt.bar(range(len(bar_1)),pre.label==t,width=1)\n",
    "    \n",
    "# plt.savefig('../../../../data_image/confusion_matrix/200708/'+title+'_time.png') \n",
    "plt.show"
   ]
  },
  {
   "cell_type": "code",
   "execution_count": 14,
   "metadata": {},
   "outputs": [
    {
     "data": {
      "text/plain": [
       "<function matplotlib.pyplot.show(*args, **kw)>"
      ]
     },
     "execution_count": 14,
     "metadata": {},
     "output_type": "execute_result"
    },
    {
     "data": {
      "image/png": "[encoded data removed]",
      "text/plain": [
       "<Figure size 1440x1440 with 2 Axes>"
      ]
     },
     "metadata": {
      "needs_background": "light"
     },
     "output_type": "display_data"
    }
   ],
   "source": [
    "pc = predict_classes\n",
    "label_size = 15\n",
    "\n",
    "labe_fin = []\n",
    "\n",
    "for l in range(len(pc)-label_size):\n",
    "    num_true = l + label_size\n",
    "    labe_fin.append(stats.mode(pc[l:num_true])[0][0])\n",
    "\n",
    "for l_ in range(label_size):\n",
    "    labe_fin.append(labe_fin[-1:][0])\n",
    "\n",
    "labe_fin = np.array(labe_fin)\n",
    "\n",
    "files = glob.glob('../../data/building_home/0all/test/*.csv')\n",
    "\n",
    "df_change = pd.read_csv(files[0])\n",
    "pre = pd.DataFrame({'label':labe_fin})\n",
    "df_change = df_change.replace({'直立':0, '歩行':1, '階段 - 下り':2, '階段 - 上り':2, '着席':0, '寝る':3})\n",
    "\n",
    "\n",
    "sliced_label_0 = np.identity(4)[df_change.label]\n",
    "sliced_label_1 = np.identity(4)[pre.label]\n",
    "\n",
    "bar_0 = np.argmax(sliced_label_0,axis=1)\n",
    "bar_1 = np.argmax(sliced_label_1,axis=1)\n",
    "\n",
    "plt.figure(figsize=(20, 20))\n",
    "plt.subplot(2,1,1)\n",
    "for t in range(4):\n",
    "    plt.bar(range(len(bar_0)),df_change.label==t,width=1)\n",
    "    \n",
    "plt.subplot(2,1,2)\n",
    "for t in range(4):\n",
    "    plt.bar(range(len(bar_1)),pre.label==t,width=1)\n",
    "    \n",
    "title = 'divide_comp_4er_nomal_inomata_clean'\n",
    "    \n",
    "# plt.savefig('../../../../data_image/confusion_matrix/200708/'+title+'_time.png') \n",
    "plt.show"
   ]
  },
  {
   "cell_type": "code",
   "execution_count": null,
   "metadata": {},
   "outputs": [],
   "source": [
    "!! pip3 install tensorflowjs"
   ]
  },
  {
   "cell_type": "code",
   "execution_count": 24,
   "metadata": {},
   "outputs": [],
   "source": [
    "import tensorflowjs as tfjs"
   ]
  },
  {
   "cell_type": "code",
   "execution_count": 25,
   "metadata": {},
   "outputs": [],
   "source": [
    "rnn.save('model_max.h5')"
   ]
  },
  {
   "cell_type": "code",
   "execution_count": 26,
   "metadata": {},
   "outputs": [
    {
     "data": {
      "text/plain": [
       "[\"2021-05-11 03:05:56.885510: W tensorflow/stream_executor/platform/default/dso_loader.cc:60] Could not load dynamic library 'libcudart.so.11.0'; dlerror: libcudart.so.11.0: cannot open shared object file: No such file or directory\",\n",
       " '2021-05-11 03:05:56.885677: I tensorflow/stream_executor/cuda/cudart_stub.cc:29] Ignore above cudart dlerror if you do not have a GPU set up on your machine.']"
      ]
     },
     "execution_count": 26,
     "metadata": {},
     "output_type": "execute_result"
    }
   ],
   "source": [
    "!!tensorflowjs_converter --input_format keras model_max.h5 model_max"
   ]
  },
  {
   "cell_type": "code",
   "execution_count": null,
   "metadata": {},
   "outputs": [],
   "source": []
  },
  {
   "cell_type": "code",
   "execution_count": null,
   "metadata": {},
   "outputs": [],
   "source": []
  },
  {
   "cell_type": "code",
   "execution_count": null,
   "metadata": {},
   "outputs": [],
   "source": []
  }
 ],
 "metadata": {
  "kernelspec": {
   "display_name": "Python 3",
   "language": "python",
   "name": "python3"
  },
  "language_info": {
   "codemirror_mode": {
    "name": "ipython",
    "version": 3
   },
   "file_extension": ".py",
   "mimetype": "text/x-python",
   "name": "python",
   "nbconvert_exporter": "python",
   "pygments_lexer": "ipython3",
   "version": "3.7.3"
  }
 },
 "nbformat": 4,
 "nbformat_minor": 4
}
